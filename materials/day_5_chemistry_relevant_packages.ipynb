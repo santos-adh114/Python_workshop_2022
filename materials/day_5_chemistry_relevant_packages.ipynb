{
 "cells": [
  {
   "cell_type": "markdown",
   "id": "56a5304f",
   "metadata": {},
   "source": [
    "## We will mostly focus on the following\n",
    " - Mendeleev (https://pypi.org/project/mendeleev/)\n",
    " - Pymatgen (https://pymatgen.org/)\n",
    " - Atomic Simulation Environment (ASE) (https://wiki.fysik.dtu.dk/ase/)\n",
    " - RDkit (https://www.rdkit.org/)"
   ]
  },
  {
   "cell_type": "markdown",
   "id": "9c35e618",
   "metadata": {},
   "source": [
    "## Mendeleev\n",
    "Python based package to extract different properties of elements in the periodic table (118 atoms, as of July, 2022)."
   ]
  },
  {
   "cell_type": "markdown",
   "id": "6b9c7f07",
   "metadata": {},
   "source": [
    "#### Extracting elemental properties"
   ]
  },
  {
   "cell_type": "code",
   "execution_count": null,
   "id": "9ac10215",
   "metadata": {},
   "outputs": [],
   "source": [
    "from mendeleev import element"
   ]
  },
  {
   "cell_type": "code",
   "execution_count": null,
   "id": "f5fbec60",
   "metadata": {},
   "outputs": [],
   "source": [
    "mg=element('Mg')"
   ]
  },
  {
   "cell_type": "code",
   "execution_count": null,
   "id": "0b8c86ea",
   "metadata": {},
   "outputs": [],
   "source": [
    "mg"
   ]
  },
  {
   "cell_type": "code",
   "execution_count": null,
   "id": "f62c89eb",
   "metadata": {},
   "outputs": [],
   "source": [
    "mg.dipole_polarizability"
   ]
  },
  {
   "cell_type": "code",
   "execution_count": null,
   "id": "c4a30419",
   "metadata": {},
   "outputs": [],
   "source": [
    "mg.lattice_constant"
   ]
  },
  {
   "cell_type": "code",
   "execution_count": null,
   "id": "70b55c74",
   "metadata": {},
   "outputs": [],
   "source": [
    "mg.density"
   ]
  },
  {
   "cell_type": "code",
   "execution_count": null,
   "id": "7f6154a9",
   "metadata": {},
   "outputs": [],
   "source": [
    "mg.ec"
   ]
  },
  {
   "cell_type": "code",
   "execution_count": null,
   "id": "6ecee654",
   "metadata": {},
   "outputs": [],
   "source": [
    "type(mg.ionic_radii)"
   ]
  },
  {
   "cell_type": "code",
   "execution_count": null,
   "id": "917535ea",
   "metadata": {},
   "outputs": [],
   "source": [
    "mg.ionic_radii[0].ionic_radius\n"
   ]
  },
  {
   "cell_type": "code",
   "execution_count": null,
   "id": "3811c27b",
   "metadata": {},
   "outputs": [],
   "source": [
    "mg.en_pauling # Pauling's electronegativity\n"
   ]
  },
  {
   "cell_type": "code",
   "execution_count": null,
   "id": "ee68eb4d",
   "metadata": {},
   "outputs": [],
   "source": [
    "from mendeleev import Mg"
   ]
  },
  {
   "cell_type": "code",
   "execution_count": null,
   "id": "287f0c36",
   "metadata": {},
   "outputs": [],
   "source": [
    "Mg.density"
   ]
  },
  {
   "cell_type": "markdown",
   "id": "e731732f",
   "metadata": {},
   "source": [
    "#### Extracting as pandas dataframe"
   ]
  },
  {
   "cell_type": "code",
   "execution_count": null,
   "id": "17824c5a",
   "metadata": {},
   "outputs": [],
   "source": [
    "from mendeleev.fetch import fetch_table\n",
    "all_data = fetch_table('elements')\n",
    "#all_data.info()\n",
    "#all_data.dtypes\n",
    "#all_data.head()\n",
    "#all_data.shape"
   ]
  },
  {
   "cell_type": "code",
   "execution_count": null,
   "id": "d239b364",
   "metadata": {},
   "outputs": [],
   "source": [
    "all_data.shape"
   ]
  },
  {
   "cell_type": "code",
   "execution_count": null,
   "id": "1a3728a8",
   "metadata": {},
   "outputs": [],
   "source": [
    "all_data.info()"
   ]
  },
  {
   "cell_type": "code",
   "execution_count": null,
   "id": "8a97d816",
   "metadata": {},
   "outputs": [],
   "source": [
    "all_data.head()"
   ]
  },
  {
   "cell_type": "markdown",
   "id": "f30ab839",
   "metadata": {},
   "source": [
    "#### Visualization"
   ]
  },
  {
   "cell_type": "code",
   "execution_count": null,
   "id": "b7f3b2be",
   "metadata": {},
   "outputs": [],
   "source": [
    "from mendeleev.vis import periodic_table\n",
    "periodic_table()\n",
    "fig=periodic_table(attribute='lattice_constant', title=\"Lattice constants\")\n",
    "#fig.show()\n",
    "fig.show()"
   ]
  },
  {
   "cell_type": "code",
   "execution_count": null,
   "id": "094b4843",
   "metadata": {},
   "outputs": [],
   "source": [
    "fig=periodic_table(attribute='en_pauling', title=\"Paulings Electronegativity\")"
   ]
  },
  {
   "cell_type": "code",
   "execution_count": null,
   "id": "7efa7ca3",
   "metadata": {},
   "outputs": [],
   "source": [
    "fig.show()"
   ]
  },
  {
   "cell_type": "code",
   "execution_count": null,
   "id": "097c8e1c",
   "metadata": {},
   "outputs": [],
   "source": [
    "#fig = periodic_table_bokeh(elements, attribute=\"atomic_radius\", colorby=\"attribute\")\n",
    "#show(fig)"
   ]
  },
  {
   "cell_type": "code",
   "execution_count": null,
   "id": "216a2f08",
   "metadata": {},
   "outputs": [],
   "source": [
    "#Using bokeh\n",
    "from mendeleev.vis import create_vis_dataframe, periodic_table_plotly\n",
    "elements = create_vis_dataframe()\n",
    "periodic_table_plotly(elements)\n",
    "from bokeh.plotting import show, output_notebook\n",
    "from mendeleev.vis import periodic_table_bokeh\n",
    "output_notebook()\n",
    "fig = periodic_table_bokeh(elements)\n",
    "show(fig)"
   ]
  },
  {
   "cell_type": "code",
   "execution_count": null,
   "id": "b11f61e2",
   "metadata": {},
   "outputs": [],
   "source": [
    "#show(fig)\n",
    "fig=periodic_table_bokeh(elements,attribute='lattice_constant', title=\"Lattice Constants\")\n",
    "show(fig)"
   ]
  },
  {
   "cell_type": "markdown",
   "id": "92ae309e",
   "metadata": {},
   "source": [
    "## Atomic Simulation Environment (ASE)\n",
    "Python based environment to prepare, perform, and analyze the atomistic simulation. It is one of the most popular tools in computational physics and chemistry."
   ]
  },
  {
   "cell_type": "markdown",
   "id": "117cb13f",
   "metadata": {},
   "source": [
    "### Preparing Atomistic Simulations\n",
    " - Structure (generation + visualization)\n",
    " - Determine parameters to run the calculations ( which optimizer, which functional, what energy and force cutoff, etc.)"
   ]
  },
  {
   "cell_type": "code",
   "execution_count": null,
   "id": "b5f77228",
   "metadata": {},
   "outputs": [],
   "source": [
    "from ase import Atoms\n",
    "from ase.calculators.emt import EMT\n",
    "from ase.constraints import FixAtoms\n",
    "from ase.optimize import QuasiNewton\n",
    "from ase.build import fcc111, add_adsorbate\n",
    "\n",
    "h = 1.85\n",
    "d = 1.10\n",
    "\n",
    "slab = fcc111('Cu', size=(4, 4, 2), vacuum=10.0)\n",
    "\n",
    "slab.calc = EMT()\n",
    "e_slab = slab.get_potential_energy()\n",
    "\n",
    "molecule = Atoms('2N', positions=[(0., 0., 0.), (0., 0., d)])\n",
    "molecule.calc = EMT()\n",
    "e_N2 = molecule.get_potential_energy()\n",
    "\n",
    "add_adsorbate(slab, molecule, h, 'ontop')\n",
    "constraint = FixAtoms(mask=[a.symbol != 'N' for a in slab])\n",
    "slab.set_constraint(constraint)\n",
    "dyn = QuasiNewton(slab, trajectory='N2Cu.traj')\n",
    "dyn.run(fmax=0.05)\n",
    "\n",
    "print('Adsorption energy:', e_slab + e_N2 - slab.get_potential_energy())"
   ]
  },
  {
   "cell_type": "markdown",
   "id": "cfbad0bd",
   "metadata": {},
   "source": [
    "#### Using Atoms object in ASE to build molecules"
   ]
  },
  {
   "cell_type": "code",
   "execution_count": null,
   "id": "a42f57ea",
   "metadata": {},
   "outputs": [],
   "source": [
    "from ase import Atoms\n",
    "d = 1.18\n",
    "co2 = Atoms('CO2', positions=[(0, 0, 0),(0,0,-d), (0, 0, d)]) # cell=[float,float,float] #pbe=[int,int,int]\n",
    "co2"
   ]
  },
  {
   "cell_type": "markdown",
   "id": "58dbd76f",
   "metadata": {},
   "source": [
    "#### Visualizing the molecule"
   ]
  },
  {
   "cell_type": "code",
   "execution_count": null,
   "id": "8d3b2119",
   "metadata": {},
   "outputs": [],
   "source": [
    "#view(co, viewer='x3d')\n",
    "#view(co, viewer='ngl')\n",
    "from ase.visualize import view\n",
    "view(co2)"
   ]
  },
  {
   "cell_type": "markdown",
   "id": "b9e9e720",
   "metadata": {},
   "source": [
    "#### Writting the data to a structure file (https://wiki.fysik.dtu.dk/ase/ase/io/io.html)"
   ]
  },
  {
   "cell_type": "code",
   "execution_count": null,
   "id": "6914ffd6",
   "metadata": {},
   "outputs": [],
   "source": [
    "co2.write('co2.xyz') # If not periodic boundary condition is set .xyz and .cif are the format for saving image (try .vasp!)"
   ]
  },
  {
   "cell_type": "markdown",
   "id": "c1bbc493",
   "metadata": {},
   "source": [
    "Repeating above steps for periodic boundary condition."
   ]
  },
  {
   "cell_type": "code",
   "execution_count": null,
   "id": "60565e78",
   "metadata": {},
   "outputs": [],
   "source": [
    "co2 = Atoms('CO2', positions=[(0, 0, 0), (0,0,-d), (0, 0, d)],cell=[10,10,10], pbc=(2,0,0))\n",
    "view(co2)\n",
    "fig1=view(co2)\n",
    "co2.write('co2.xyz') # Using periodic boundary condition; different file types are allowed"
   ]
  },
  {
   "cell_type": "code",
   "execution_count": null,
   "id": "a1ee712a",
   "metadata": {},
   "outputs": [],
   "source": [
    "co2.get_positions()\n",
    "co2.get_cell()"
   ]
  },
  {
   "cell_type": "markdown",
   "id": "bcbf9e8a",
   "metadata": {},
   "source": [
    "Although we built a molecule on our own ussing the information of bond lengths. ASE has in built library that contains\n",
    "a lot of molecules. Following is the list of structures that are available in ASE"
   ]
  },
  {
   "cell_type": "code",
   "execution_count": null,
   "id": "60a83b7f",
   "metadata": {},
   "outputs": [],
   "source": [
    "from ase.collections import g2\n",
    "ase_avail_str=g2.names\n",
    "ase_avail_str"
   ]
  },
  {
   "cell_type": "code",
   "execution_count": null,
   "id": "ffc293f8",
   "metadata": {},
   "outputs": [],
   "source": [
    "'C6H6' in ase_avail_str"
   ]
  },
  {
   "cell_type": "code",
   "execution_count": null,
   "id": "7bb86232",
   "metadata": {},
   "outputs": [],
   "source": [
    "from ase.build import molecule\n",
    "benz=molecule('C6H6')\n",
    "view(benz)\n",
    "benz.get_positions()\n",
    "#benz.get_cell()"
   ]
  },
  {
   "cell_type": "code",
   "execution_count": null,
   "id": "9abe7bbc",
   "metadata": {},
   "outputs": [],
   "source": [
    "#### Building solids (bulk)\n",
    "Silver has a fcc crystal lattice structure. Imagine a cube with atoms at each corners and at the center of each face.\n",
    "We can get its lattice constant from mendeleev and use it to build the bulk."
   ]
  },
  {
   "cell_type": "code",
   "execution_count": null,
   "id": "d4feaafe",
   "metadata": {},
   "outputs": [],
   "source": [
    "from mendeleev import Ag\n",
    "lat_ag=Ag.lattice_constant\n",
    "from ase.build import bulk\n",
    "ag_prim=bulk('Ag','fcc',lat_ag)\n",
    "ag_ortho=bulk('Ag','fcc',lat_ag,orthorhombic=True)\n",
    "ag_conv=bulk('Ag','fcc',lat_ag,cubic=True)\n",
    "#view(ag_prim)\n",
    "#view(ag_ortho)\n",
    "#view(ag_conv)\n",
    "#ag_prim.get_cell()\n",
    "#ag_ortho.get_cell()\n",
    "#ag_conv.get_cell()\n",
    "#ag_prim.get_positions()\n",
    "#ag_ortho.get_positions()\n",
    "ag_conv.get_positions()"
   ]
  },
  {
   "cell_type": "code",
   "execution_count": null,
   "id": "9bd3ba99",
   "metadata": {},
   "outputs": [],
   "source": [
    "from mendeleev import Na\n",
    "lat_na=Na.lattice_constant\n",
    "from ase.build import bulk\n",
    "na_prim=bulk('Na','bcc',lat_na)\n",
    "na_conv=bulk('Na','bcc',lat_na,cubic=True)\n",
    "#view(na_prim)\n",
    "\n",
    "view(na_conv)\n",
    "#na_prim.get_cell()\n",
    "\n",
    "#na_conv.get_cell()\n",
    "#na_prim.get_positions()\n",
    "na_conv.get_positions()"
   ]
  },
  {
   "cell_type": "code",
   "execution_count": null,
   "id": "97811c6b",
   "metadata": {},
   "outputs": [],
   "source": [
    "#### Building surfaces"
   ]
  },
  {
   "cell_type": "code",
   "execution_count": null,
   "id": "0048c318",
   "metadata": {},
   "outputs": [],
   "source": [
    "from ase.build import fcc111"
   ]
  },
  {
   "cell_type": "code",
   "execution_count": null,
   "id": "ed3ac724",
   "metadata": {},
   "outputs": [],
   "source": [
    "surf_ag = fcc111('Ag',a=lat_ag, size=(4,4,5))\n",
    "#slab = fcc111('Al', size=(2,2,3))\n",
    "add_adsorbate(surf_ag, 'H', 1.5, 'ontop')\n",
    "surf_ag.center(vacuum=10.0, axis=2)\n",
    "view(surf_ag)\n",
    "#surf_ag.get_cell()"
   ]
  },
  {
   "cell_type": "code",
   "execution_count": null,
   "id": "49d35840",
   "metadata": {},
   "outputs": [],
   "source": [
    "len(surf_ag.get_positions())"
   ]
  },
  {
   "cell_type": "code",
   "execution_count": null,
   "id": "f162b874",
   "metadata": {},
   "outputs": [],
   "source": []
  },
  {
   "cell_type": "code",
   "execution_count": null,
   "id": "79a8dc26",
   "metadata": {},
   "outputs": [],
   "source": []
  },
  {
   "cell_type": "code",
   "execution_count": null,
   "id": "2dd5dd95",
   "metadata": {},
   "outputs": [],
   "source": []
  }
 ],
 "metadata": {
  "kernelspec": {
   "display_name": "Python 3 (ipykernel)",
   "language": "python",
   "name": "python3"
  },
  "language_info": {
   "codemirror_mode": {
    "name": "ipython",
    "version": 3
   },
   "file_extension": ".py",
   "mimetype": "text/x-python",
   "name": "python",
   "nbconvert_exporter": "python",
   "pygments_lexer": "ipython3",
   "version": "3.9.5"
  }
 },
 "nbformat": 4,
 "nbformat_minor": 5
}
